{
 "cells": [
  {
   "cell_type": "code",
   "execution_count": 25,
   "metadata": {},
   "outputs": [],
   "source": [
    "# considering the instances only for which the rating is either one star or five star as dataset\n",
    "# and classifying the rating on the basis of train data(either 1 or 5)\n",
    "\n",
    "import pandas as pd\n",
    "import numpy as np"
   ]
  },
  {
   "cell_type": "code",
   "execution_count": 26,
   "metadata": {},
   "outputs": [
    {
     "data": {
      "text/plain": [
       "(10000, 10)"
      ]
     },
     "execution_count": 26,
     "metadata": {},
     "output_type": "execute_result"
    }
   ],
   "source": [
    "data = pd.read_csv('data/yelp.csv')\n",
    "data.shape"
   ]
  },
  {
   "cell_type": "code",
   "execution_count": 27,
   "metadata": {},
   "outputs": [
    {
     "data": {
      "text/html": [
       "<div>\n",
       "<style scoped>\n",
       "    .dataframe tbody tr th:only-of-type {\n",
       "        vertical-align: middle;\n",
       "    }\n",
       "\n",
       "    .dataframe tbody tr th {\n",
       "        vertical-align: top;\n",
       "    }\n",
       "\n",
       "    .dataframe thead th {\n",
       "        text-align: right;\n",
       "    }\n",
       "</style>\n",
       "<table border=\"1\" class=\"dataframe\">\n",
       "  <thead>\n",
       "    <tr style=\"text-align: right;\">\n",
       "      <th></th>\n",
       "      <th>business_id</th>\n",
       "      <th>date</th>\n",
       "      <th>review_id</th>\n",
       "      <th>stars</th>\n",
       "      <th>text</th>\n",
       "      <th>type</th>\n",
       "      <th>user_id</th>\n",
       "      <th>cool</th>\n",
       "      <th>useful</th>\n",
       "      <th>funny</th>\n",
       "    </tr>\n",
       "  </thead>\n",
       "  <tbody>\n",
       "    <tr>\n",
       "      <th>0</th>\n",
       "      <td>9yKzy9PApeiPPOUJEtnvkg</td>\n",
       "      <td>2011-01-26</td>\n",
       "      <td>fWKvX83p0-ka4JS3dc6E5A</td>\n",
       "      <td>5</td>\n",
       "      <td>My wife took me here on my birthday for breakf...</td>\n",
       "      <td>review</td>\n",
       "      <td>rLtl8ZkDX5vH5nAx9C3q5Q</td>\n",
       "      <td>2</td>\n",
       "      <td>5</td>\n",
       "      <td>0</td>\n",
       "    </tr>\n",
       "    <tr>\n",
       "      <th>1</th>\n",
       "      <td>ZRJwVLyzEJq1VAihDhYiow</td>\n",
       "      <td>2011-07-27</td>\n",
       "      <td>IjZ33sJrzXqU-0X6U8NwyA</td>\n",
       "      <td>5</td>\n",
       "      <td>I have no idea why some people give bad review...</td>\n",
       "      <td>review</td>\n",
       "      <td>0a2KyEL0d3Yb1V6aivbIuQ</td>\n",
       "      <td>0</td>\n",
       "      <td>0</td>\n",
       "      <td>0</td>\n",
       "    </tr>\n",
       "    <tr>\n",
       "      <th>2</th>\n",
       "      <td>6oRAC4uyJCsJl1X0WZpVSA</td>\n",
       "      <td>2012-06-14</td>\n",
       "      <td>IESLBzqUCLdSzSqm0eCSxQ</td>\n",
       "      <td>4</td>\n",
       "      <td>love the gyro plate. Rice is so good and I als...</td>\n",
       "      <td>review</td>\n",
       "      <td>0hT2KtfLiobPvh6cDC8JQg</td>\n",
       "      <td>0</td>\n",
       "      <td>1</td>\n",
       "      <td>0</td>\n",
       "    </tr>\n",
       "    <tr>\n",
       "      <th>3</th>\n",
       "      <td>_1QQZuf4zZOyFCvXc0o6Vg</td>\n",
       "      <td>2010-05-27</td>\n",
       "      <td>G-WvGaISbqqaMHlNnByodA</td>\n",
       "      <td>5</td>\n",
       "      <td>Rosie, Dakota, and I LOVE Chaparral Dog Park!!...</td>\n",
       "      <td>review</td>\n",
       "      <td>uZetl9T0NcROGOyFfughhg</td>\n",
       "      <td>1</td>\n",
       "      <td>2</td>\n",
       "      <td>0</td>\n",
       "    </tr>\n",
       "    <tr>\n",
       "      <th>4</th>\n",
       "      <td>6ozycU1RpktNG2-1BroVtw</td>\n",
       "      <td>2012-01-05</td>\n",
       "      <td>1uJFq2r5QfJG_6ExMRCaGw</td>\n",
       "      <td>5</td>\n",
       "      <td>General Manager Scott Petello is a good egg!!!...</td>\n",
       "      <td>review</td>\n",
       "      <td>vYmM4KTsC8ZfQBg-j5MWkw</td>\n",
       "      <td>0</td>\n",
       "      <td>0</td>\n",
       "      <td>0</td>\n",
       "    </tr>\n",
       "  </tbody>\n",
       "</table>\n",
       "</div>"
      ],
      "text/plain": [
       "              business_id        date               review_id  stars  \\\n",
       "0  9yKzy9PApeiPPOUJEtnvkg  2011-01-26  fWKvX83p0-ka4JS3dc6E5A      5   \n",
       "1  ZRJwVLyzEJq1VAihDhYiow  2011-07-27  IjZ33sJrzXqU-0X6U8NwyA      5   \n",
       "2  6oRAC4uyJCsJl1X0WZpVSA  2012-06-14  IESLBzqUCLdSzSqm0eCSxQ      4   \n",
       "3  _1QQZuf4zZOyFCvXc0o6Vg  2010-05-27  G-WvGaISbqqaMHlNnByodA      5   \n",
       "4  6ozycU1RpktNG2-1BroVtw  2012-01-05  1uJFq2r5QfJG_6ExMRCaGw      5   \n",
       "\n",
       "                                                text    type  \\\n",
       "0  My wife took me here on my birthday for breakf...  review   \n",
       "1  I have no idea why some people give bad review...  review   \n",
       "2  love the gyro plate. Rice is so good and I als...  review   \n",
       "3  Rosie, Dakota, and I LOVE Chaparral Dog Park!!...  review   \n",
       "4  General Manager Scott Petello is a good egg!!!...  review   \n",
       "\n",
       "                  user_id  cool  useful  funny  \n",
       "0  rLtl8ZkDX5vH5nAx9C3q5Q     2       5      0  \n",
       "1  0a2KyEL0d3Yb1V6aivbIuQ     0       0      0  \n",
       "2  0hT2KtfLiobPvh6cDC8JQg     0       1      0  \n",
       "3  uZetl9T0NcROGOyFfughhg     1       2      0  \n",
       "4  vYmM4KTsC8ZfQBg-j5MWkw     0       0      0  "
      ]
     },
     "execution_count": 27,
     "metadata": {},
     "output_type": "execute_result"
    }
   ],
   "source": [
    "data.head()"
   ]
  },
  {
   "cell_type": "code",
   "execution_count": 28,
   "metadata": {},
   "outputs": [
    {
     "name": "stdout",
     "output_type": "stream",
     "text": [
      "(10000,)\n",
      "(10000,)\n"
     ]
    }
   ],
   "source": [
    "X = data['text']\n",
    "y = data['stars']\n",
    "print(X.shape)\n",
    "print(y.shape)"
   ]
  },
  {
   "cell_type": "code",
   "execution_count": 45,
   "metadata": {},
   "outputs": [],
   "source": [
    "X = data[(data.stars == 5) | (data.stars == 1)]\n",
    "X = X['text']"
   ]
  },
  {
   "cell_type": "code",
   "execution_count": 46,
   "metadata": {},
   "outputs": [],
   "source": [
    "y = data[(data.stars == 5) | (data.stars == 1)]\n",
    "y = y['stars']"
   ]
  },
  {
   "cell_type": "code",
   "execution_count": 31,
   "metadata": {},
   "outputs": [],
   "source": []
  },
  {
   "cell_type": "code",
   "execution_count": 47,
   "metadata": {},
   "outputs": [
    {
     "data": {
      "text/plain": [
       "0    My wife took me here on my birthday for breakf...\n",
       "1    I have no idea why some people give bad review...\n",
       "3    Rosie, Dakota, and I LOVE Chaparral Dog Park!!...\n",
       "4    General Manager Scott Petello is a good egg!!!...\n",
       "6    Drop what you're doing and drive here. After I...\n",
       "Name: text, dtype: object"
      ]
     },
     "execution_count": 47,
     "metadata": {},
     "output_type": "execute_result"
    }
   ],
   "source": [
    "X.head()"
   ]
  },
  {
   "cell_type": "code",
   "execution_count": 48,
   "metadata": {},
   "outputs": [
    {
     "data": {
      "text/plain": [
       "0    5\n",
       "1    5\n",
       "3    5\n",
       "4    5\n",
       "6    5\n",
       "Name: stars, dtype: int64"
      ]
     },
     "execution_count": 48,
     "metadata": {},
     "output_type": "execute_result"
    }
   ],
   "source": [
    "y.head()"
   ]
  },
  {
   "cell_type": "code",
   "execution_count": 49,
   "metadata": {},
   "outputs": [
    {
     "name": "stdout",
     "output_type": "stream",
     "text": [
      "(4086,)\n"
     ]
    }
   ],
   "source": [
    "print(X.shape)"
   ]
  },
  {
   "cell_type": "code",
   "execution_count": 50,
   "metadata": {},
   "outputs": [
    {
     "name": "stdout",
     "output_type": "stream",
     "text": [
      "(4086,)\n"
     ]
    }
   ],
   "source": [
    "print(y.shape)"
   ]
  },
  {
   "cell_type": "code",
   "execution_count": 51,
   "metadata": {},
   "outputs": [],
   "source": [
    "from sklearn.cross_validation import train_test_split\n",
    "\n",
    "X_train, X_test, y_train, y_test = train_test_split(X, y, random_state=1)\n"
   ]
  },
  {
   "cell_type": "code",
   "execution_count": 52,
   "metadata": {},
   "outputs": [],
   "source": [
    "from sklearn.feature_extraction.text import CountVectorizer\n",
    "\n",
    "vect = CountVectorizer()\n",
    "\n",
    "X_train_dtm = vect.fit_transform(X_train)"
   ]
  },
  {
   "cell_type": "code",
   "execution_count": 53,
   "metadata": {},
   "outputs": [
    {
     "data": {
      "text/plain": [
       "(3064, 16825)"
      ]
     },
     "execution_count": 53,
     "metadata": {},
     "output_type": "execute_result"
    }
   ],
   "source": [
    "X_train_dtm.shape"
   ]
  },
  {
   "cell_type": "code",
   "execution_count": 56,
   "metadata": {},
   "outputs": [
    {
     "data": {
      "text/plain": [
       "16825"
      ]
     },
     "execution_count": 56,
     "metadata": {},
     "output_type": "execute_result"
    }
   ],
   "source": [
    "len(vect.get_feature_names())"
   ]
  },
  {
   "cell_type": "code",
   "execution_count": 57,
   "metadata": {},
   "outputs": [],
   "source": [
    "X_test_dtm = vect.transform(X_test)"
   ]
  },
  {
   "cell_type": "code",
   "execution_count": 58,
   "metadata": {},
   "outputs": [
    {
     "data": {
      "text/plain": [
       "(1022, 16825)"
      ]
     },
     "execution_count": 58,
     "metadata": {},
     "output_type": "execute_result"
    }
   ],
   "source": [
    "X_test_dtm.shape"
   ]
  },
  {
   "cell_type": "code",
   "execution_count": 59,
   "metadata": {},
   "outputs": [],
   "source": [
    "from sklearn.naive_bayes import MultinomialNB\n",
    "\n",
    "nb = MultinomialNB().fit(X_train_dtm, y_train)\n",
    "\n"
   ]
  },
  {
   "cell_type": "code",
   "execution_count": 60,
   "metadata": {},
   "outputs": [],
   "source": [
    "y_pred = nb.predict(X_test_dtm)"
   ]
  },
  {
   "cell_type": "code",
   "execution_count": 62,
   "metadata": {},
   "outputs": [
    {
     "data": {
      "text/plain": [
       "0.9187866927592955"
      ]
     },
     "execution_count": 62,
     "metadata": {},
     "output_type": "execute_result"
    }
   ],
   "source": [
    "from sklearn import metrics\n",
    "\n",
    "metrics.accuracy_score(y_test, y_pred)"
   ]
  },
  {
   "cell_type": "code",
   "execution_count": 64,
   "metadata": {},
   "outputs": [
    {
     "data": {
      "text/plain": [
       "array([[126,  58],\n",
       "       [ 25, 813]])"
      ]
     },
     "execution_count": 64,
     "metadata": {},
     "output_type": "execute_result"
    }
   ],
   "source": [
    "#y_pred_proba = nb.predict_proba(X_test_dtm)\n",
    "metrics.confusion_matrix(y_test, y_pred)"
   ]
  },
  {
   "cell_type": "code",
   "execution_count": 65,
   "metadata": {},
   "outputs": [
    {
     "data": {
      "text/plain": [
       "5    838\n",
       "1    184\n",
       "Name: stars, dtype: int64"
      ]
     },
     "execution_count": 65,
     "metadata": {},
     "output_type": "execute_result"
    }
   ],
   "source": [
    "# calculating the Null Accuracy\n",
    "# Null accuracy : accuracy that can be achieved by predicting the most frequent class\n",
    "\n",
    "y_test.value_counts()\n"
   ]
  },
  {
   "cell_type": "code",
   "execution_count": 68,
   "metadata": {},
   "outputs": [
    {
     "data": {
      "text/plain": [
       "5    0.819961\n",
       "1    0.180039\n",
       "Name: stars, dtype: float64"
      ]
     },
     "execution_count": 68,
     "metadata": {},
     "output_type": "execute_result"
    }
   ],
   "source": [
    "y_test.value_counts('5')"
   ]
  },
  {
   "cell_type": "code",
   "execution_count": 70,
   "metadata": {},
   "outputs": [
    {
     "data": {
      "text/plain": [
       "0.8199608610567515"
      ]
     },
     "execution_count": 70,
     "metadata": {},
     "output_type": "execute_result"
    }
   ],
   "source": [
    "null_accuracy = 838/len(y_test)\n",
    "null_accuracy"
   ]
  },
  {
   "cell_type": "code",
   "execution_count": 78,
   "metadata": {},
   "outputs": [
    {
     "name": "stdout",
     "output_type": "stream",
     "text": [
      "58\n"
     ]
    },
    {
     "data": {
      "text/plain": [
       "2175    This has to be the worst restaurant in terms o...\n",
       "1781    If you like the stuck up Scottsdale vibe this ...\n",
       "2674    I'm sorry to be what seems to be the lone one ...\n",
       "9984    Went last night to Whore Foods to get basics t...\n",
       "3392    I found Lisa G's while driving through phoenix...\n",
       "8283    Don't know where I should start. Grand opening...\n",
       "2765    Went last week, and ordered a dozen variety. I...\n",
       "2839    Never Again,\\nI brought my Mountain Bike in (w...\n",
       "321     My wife and I live around the corner, hadn't e...\n",
       "1919                                         D-scust-ing.\n",
       "2490    Lazy Q CLOSED in 2010.  New Owners cleaned up ...\n",
       "9125    La Grande Orange Grocery has a problem. It can...\n",
       "9185    For frozen yogurt quality, I give this place a...\n",
       "436     this another place that i would give no stars ...\n",
       "2051    Sadly with new owners comes changes on menu.  ...\n",
       "1721    This is the closest to a New York hipster styl...\n",
       "3447    If you want a school that cares more about you...\n",
       "842     Boy is the name a temptation.Seriously :)  I'l...\n",
       "6159    Really, if I could, I would give this place ze...\n",
       "943     Don't waste your time...Arrowhead mall on the ...\n",
       "5977    You want good food? You'd be better off smuggl...\n",
       "8833    The owner has changed hands & this place isn't...\n",
       "6584    Jimmy Johns is cheaper and better ... The Capr...\n",
       "1899    Buca Di Beppo is literally, italian restaurant...\n",
       "9953    \"Hipster,Trendy\" ????-I think NOT !!!! Very di...\n",
       "2060                This place is closed.  Good riddance.\n",
       "3082    Currently having a liquidation sale, but it's ...\n",
       "8220    Maybe I ate at a different restaurant than the...\n",
       "3634    Seriously?! With grocery stores like Fresh & E...\n",
       "3266    Absolutely awful... these guys have NO idea wh...\n",
       "7397    This place sucks!! I moved to the valley and h...\n",
       "4473    It is what you would expect from any themed pl...\n",
       "5502    Angry Bro Bar !  Please go here if you wear si...\n",
       "2615    Great in its day, now leaves a lot to be desir...\n",
       "3413    I purchased the Enotria groupon when it was re...\n",
       "2999    I can't even believe I actually went to this r...\n",
       "1372    No offense to everyone who gave this place 5 s...\n",
       "1291    Every time I come here the staff is so rude! I...\n",
       "6222    My mother always told me, if I didn't have any...\n",
       "9296    My boyfriend and I tried this place last year ...\n",
       "7975    What are you all talking about?! This place is...\n",
       "4630    I used to always go here for tires until my me...\n",
       "7130    I was not impressed. The food was bad & expens...\n",
       "5818    Most horrible buffet I have ever been to.\\n\\nM...\n",
       "3704    Staff is nice, and that's it.\\nThey use very c...\n",
       "8741    They served us stale rice.  Average main dishe...\n",
       "3938    We were so disappointed!  We were on vacation ...\n",
       "7631    this is a business located in the fry's grocer...\n",
       "8681    As I promised myself, I'd go back again to try...\n",
       "1532    Cold, under done chips. If a Mexican food rest...\n",
       "113     Unless you are a regular or look like your wal...\n",
       "4165    OMG! what is the rave about? this place is dis...\n",
       "9299    The salad plates were not chilled... As they u...\n",
       "4311    Donuts are really good, if they have any when ...\n",
       "7035    Totally excited to try this place out, my gran...\n",
       "8000    Still a place that is unacceptable in my book-...\n",
       "3755    Have been going to LGO since 2003 and have alw...\n",
       "507     HELLISH HELLISH SUMMER WEATHER (March thru Oct...\n",
       "Name: text, dtype: object"
      ]
     },
     "execution_count": 78,
     "metadata": {},
     "output_type": "execute_result"
    }
   ],
   "source": [
    "print(len(X_test[(y_test == 1) & (y_pred == 5)])) # False Positive\n",
    "X_test[(y_test == 1) & (y_pred == 5)]"
   ]
  },
  {
   "cell_type": "code",
   "execution_count": 80,
   "metadata": {},
   "outputs": [
    {
     "data": {
      "text/plain": [
       "array([[26.,  4.,  1., ...,  0.,  0.,  0.],\n",
       "       [39.,  5.,  0., ...,  1.,  1.,  1.]])"
      ]
     },
     "execution_count": 80,
     "metadata": {},
     "output_type": "execute_result"
    }
   ],
   "source": [
    "nb.feature_count_"
   ]
  },
  {
   "cell_type": "code",
   "execution_count": 82,
   "metadata": {},
   "outputs": [
    {
     "data": {
      "text/plain": [
       "array([26.,  4.,  1., ...,  0.,  0.,  0.])"
      ]
     },
     "execution_count": 82,
     "metadata": {},
     "output_type": "execute_result"
    }
   ],
   "source": [
    "one_token_count = nb.feature_count_[0,:]\n",
    "one_token_count"
   ]
  },
  {
   "cell_type": "code",
   "execution_count": 84,
   "metadata": {},
   "outputs": [
    {
     "data": {
      "text/plain": [
       "array([39.,  5.,  0., ...,  1.,  1.,  1.])"
      ]
     },
     "execution_count": 84,
     "metadata": {},
     "output_type": "execute_result"
    }
   ],
   "source": [
    "five_token_count = nb.feature_count_[1,:]\n",
    "five_token_count"
   ]
  },
  {
   "cell_type": "code",
   "execution_count": 91,
   "metadata": {},
   "outputs": [
    {
     "data": {
      "text/html": [
       "<div>\n",
       "<style scoped>\n",
       "    .dataframe tbody tr th:only-of-type {\n",
       "        vertical-align: middle;\n",
       "    }\n",
       "\n",
       "    .dataframe tbody tr th {\n",
       "        vertical-align: top;\n",
       "    }\n",
       "\n",
       "    .dataframe thead th {\n",
       "        text-align: right;\n",
       "    }\n",
       "</style>\n",
       "<table border=\"1\" class=\"dataframe\">\n",
       "  <thead>\n",
       "    <tr style=\"text-align: right;\">\n",
       "      <th></th>\n",
       "      <th>five_star</th>\n",
       "      <th>one_star</th>\n",
       "    </tr>\n",
       "    <tr>\n",
       "      <th>token</th>\n",
       "      <th></th>\n",
       "      <th></th>\n",
       "    </tr>\n",
       "  </thead>\n",
       "  <tbody>\n",
       "    <tr>\n",
       "      <th>00</th>\n",
       "      <td>39.0</td>\n",
       "      <td>26.0</td>\n",
       "    </tr>\n",
       "    <tr>\n",
       "      <th>000</th>\n",
       "      <td>5.0</td>\n",
       "      <td>4.0</td>\n",
       "    </tr>\n",
       "    <tr>\n",
       "      <th>00a</th>\n",
       "      <td>0.0</td>\n",
       "      <td>1.0</td>\n",
       "    </tr>\n",
       "    <tr>\n",
       "      <th>00am</th>\n",
       "      <td>2.0</td>\n",
       "      <td>3.0</td>\n",
       "    </tr>\n",
       "    <tr>\n",
       "      <th>00pm</th>\n",
       "      <td>4.0</td>\n",
       "      <td>1.0</td>\n",
       "    </tr>\n",
       "  </tbody>\n",
       "</table>\n",
       "</div>"
      ],
      "text/plain": [
       "       five_star  one_star\n",
       "token                     \n",
       "00          39.0      26.0\n",
       "000          5.0       4.0\n",
       "00a          0.0       1.0\n",
       "00am         2.0       3.0\n",
       "00pm         4.0       1.0"
      ]
     },
     "execution_count": 91,
     "metadata": {},
     "output_type": "execute_result"
    }
   ],
   "source": [
    "tokens = pd.DataFrame({'token':vect.get_feature_names(), 'one_star':one_token_count, 'five_star':five_token_count}).set_index('token')\n",
    "tokens.head()"
   ]
  },
  {
   "cell_type": "code",
   "execution_count": 92,
   "metadata": {},
   "outputs": [
    {
     "data": {
      "text/html": [
       "<div>\n",
       "<style scoped>\n",
       "    .dataframe tbody tr th:only-of-type {\n",
       "        vertical-align: middle;\n",
       "    }\n",
       "\n",
       "    .dataframe tbody tr th {\n",
       "        vertical-align: top;\n",
       "    }\n",
       "\n",
       "    .dataframe thead th {\n",
       "        text-align: right;\n",
       "    }\n",
       "</style>\n",
       "<table border=\"1\" class=\"dataframe\">\n",
       "  <thead>\n",
       "    <tr style=\"text-align: right;\">\n",
       "      <th></th>\n",
       "      <th>five_star</th>\n",
       "      <th>one_star</th>\n",
       "    </tr>\n",
       "    <tr>\n",
       "      <th>token</th>\n",
       "      <th></th>\n",
       "      <th></th>\n",
       "    </tr>\n",
       "  </thead>\n",
       "  <tbody>\n",
       "    <tr>\n",
       "      <th>fourteen</th>\n",
       "      <td>0.0</td>\n",
       "      <td>1.0</td>\n",
       "    </tr>\n",
       "    <tr>\n",
       "      <th>bean</th>\n",
       "      <td>38.0</td>\n",
       "      <td>7.0</td>\n",
       "    </tr>\n",
       "    <tr>\n",
       "      <th>student</th>\n",
       "      <td>6.0</td>\n",
       "      <td>0.0</td>\n",
       "    </tr>\n",
       "    <tr>\n",
       "      <th>cerignola</th>\n",
       "      <td>1.0</td>\n",
       "      <td>0.0</td>\n",
       "    </tr>\n",
       "    <tr>\n",
       "      <th>bethany</th>\n",
       "      <td>2.0</td>\n",
       "      <td>0.0</td>\n",
       "    </tr>\n",
       "  </tbody>\n",
       "</table>\n",
       "</div>"
      ],
      "text/plain": [
       "           five_star  one_star\n",
       "token                         \n",
       "fourteen         0.0       1.0\n",
       "bean            38.0       7.0\n",
       "student          6.0       0.0\n",
       "cerignola        1.0       0.0\n",
       "bethany          2.0       0.0"
      ]
     },
     "execution_count": 92,
     "metadata": {},
     "output_type": "execute_result"
    }
   ],
   "source": [
    "tokens.sample(5, random_state=6)"
   ]
  },
  {
   "cell_type": "code",
   "execution_count": 93,
   "metadata": {},
   "outputs": [
    {
     "data": {
      "text/plain": [
       "array([ 565., 2499.])"
      ]
     },
     "execution_count": 93,
     "metadata": {},
     "output_type": "execute_result"
    }
   ],
   "source": [
    "nb.class_count_"
   ]
  },
  {
   "cell_type": "code",
   "execution_count": 95,
   "metadata": {},
   "outputs": [
    {
     "data": {
      "text/plain": [
       "2499.0"
      ]
     },
     "execution_count": 95,
     "metadata": {},
     "output_type": "execute_result"
    }
   ],
   "source": [
    "nb.class_count_[1]"
   ]
  },
  {
   "cell_type": "code",
   "execution_count": 101,
   "metadata": {},
   "outputs": [
    {
     "data": {
      "text/html": [
       "<div>\n",
       "<style scoped>\n",
       "    .dataframe tbody tr th:only-of-type {\n",
       "        vertical-align: middle;\n",
       "    }\n",
       "\n",
       "    .dataframe tbody tr th {\n",
       "        vertical-align: top;\n",
       "    }\n",
       "\n",
       "    .dataframe thead th {\n",
       "        text-align: right;\n",
       "    }\n",
       "</style>\n",
       "<table border=\"1\" class=\"dataframe\">\n",
       "  <thead>\n",
       "    <tr style=\"text-align: right;\">\n",
       "      <th></th>\n",
       "      <th>five_star</th>\n",
       "      <th>one_star</th>\n",
       "    </tr>\n",
       "    <tr>\n",
       "      <th>token</th>\n",
       "      <th></th>\n",
       "      <th></th>\n",
       "    </tr>\n",
       "  </thead>\n",
       "  <tbody>\n",
       "    <tr>\n",
       "      <th>fourteen</th>\n",
       "      <td>0.001773</td>\n",
       "      <td>0.0004</td>\n",
       "    </tr>\n",
       "    <tr>\n",
       "      <th>bean</th>\n",
       "      <td>0.001773</td>\n",
       "      <td>0.0004</td>\n",
       "    </tr>\n",
       "    <tr>\n",
       "      <th>student</th>\n",
       "      <td>0.001773</td>\n",
       "      <td>0.0004</td>\n",
       "    </tr>\n",
       "    <tr>\n",
       "      <th>cerignola</th>\n",
       "      <td>0.001773</td>\n",
       "      <td>0.0004</td>\n",
       "    </tr>\n",
       "    <tr>\n",
       "      <th>bethany</th>\n",
       "      <td>0.001773</td>\n",
       "      <td>0.0004</td>\n",
       "    </tr>\n",
       "  </tbody>\n",
       "</table>\n",
       "</div>"
      ],
      "text/plain": [
       "           five_star  one_star\n",
       "token                         \n",
       "fourteen    0.001773    0.0004\n",
       "bean        0.001773    0.0004\n",
       "student     0.001773    0.0004\n",
       "cerignola   0.001773    0.0004\n",
       "bethany     0.001773    0.0004"
      ]
     },
     "execution_count": 101,
     "metadata": {},
     "output_type": "execute_result"
    }
   ],
   "source": [
    "tokens['five_star'] = tokens.five_star + 1\n",
    "tokens['one_star'] = tokens.one_star + 1\n",
    "\n",
    "tokens['five_star'] = tokens.five_star / nb.class_count_[0]\n",
    "tokens['one_star'] = tokens.one_star / nb.class_count_[1]\n",
    "\n",
    "tokens.sample(5, random_state=6)"
   ]
  },
  {
   "cell_type": "code",
   "execution_count": 102,
   "metadata": {},
   "outputs": [],
   "source": [
    "tokens['five_to_one_ratio'] = tokens.five_star / tokens.one_star"
   ]
  },
  {
   "cell_type": "code",
   "execution_count": 103,
   "metadata": {},
   "outputs": [
    {
     "data": {
      "text/html": [
       "<div>\n",
       "<style scoped>\n",
       "    .dataframe tbody tr th:only-of-type {\n",
       "        vertical-align: middle;\n",
       "    }\n",
       "\n",
       "    .dataframe tbody tr th {\n",
       "        vertical-align: top;\n",
       "    }\n",
       "\n",
       "    .dataframe thead th {\n",
       "        text-align: right;\n",
       "    }\n",
       "</style>\n",
       "<table border=\"1\" class=\"dataframe\">\n",
       "  <thead>\n",
       "    <tr style=\"text-align: right;\">\n",
       "      <th></th>\n",
       "      <th>five_star</th>\n",
       "      <th>one_star</th>\n",
       "      <th>five_to_one_ratio</th>\n",
       "    </tr>\n",
       "    <tr>\n",
       "      <th>token</th>\n",
       "      <th></th>\n",
       "      <th></th>\n",
       "      <th></th>\n",
       "    </tr>\n",
       "  </thead>\n",
       "  <tbody>\n",
       "    <tr>\n",
       "      <th>fourteen</th>\n",
       "      <td>0.001773</td>\n",
       "      <td>0.0004</td>\n",
       "      <td>4.429077</td>\n",
       "    </tr>\n",
       "    <tr>\n",
       "      <th>bean</th>\n",
       "      <td>0.001773</td>\n",
       "      <td>0.0004</td>\n",
       "      <td>4.429599</td>\n",
       "    </tr>\n",
       "    <tr>\n",
       "      <th>student</th>\n",
       "      <td>0.001773</td>\n",
       "      <td>0.0004</td>\n",
       "      <td>4.429161</td>\n",
       "    </tr>\n",
       "    <tr>\n",
       "      <th>cerignola</th>\n",
       "      <td>0.001773</td>\n",
       "      <td>0.0004</td>\n",
       "      <td>4.429092</td>\n",
       "    </tr>\n",
       "    <tr>\n",
       "      <th>bethany</th>\n",
       "      <td>0.001773</td>\n",
       "      <td>0.0004</td>\n",
       "      <td>4.429106</td>\n",
       "    </tr>\n",
       "  </tbody>\n",
       "</table>\n",
       "</div>"
      ],
      "text/plain": [
       "           five_star  one_star  five_to_one_ratio\n",
       "token                                            \n",
       "fourteen    0.001773    0.0004           4.429077\n",
       "bean        0.001773    0.0004           4.429599\n",
       "student     0.001773    0.0004           4.429161\n",
       "cerignola   0.001773    0.0004           4.429092\n",
       "bethany     0.001773    0.0004           4.429106"
      ]
     },
     "execution_count": 103,
     "metadata": {},
     "output_type": "execute_result"
    }
   ],
   "source": [
    "tokens.sample(5, random_state=6)"
   ]
  },
  {
   "cell_type": "code",
   "execution_count": 104,
   "metadata": {},
   "outputs": [
    {
     "data": {
      "text/html": [
       "<div>\n",
       "<style scoped>\n",
       "    .dataframe tbody tr th:only-of-type {\n",
       "        vertical-align: middle;\n",
       "    }\n",
       "\n",
       "    .dataframe tbody tr th {\n",
       "        vertical-align: top;\n",
       "    }\n",
       "\n",
       "    .dataframe thead th {\n",
       "        text-align: right;\n",
       "    }\n",
       "</style>\n",
       "<table border=\"1\" class=\"dataframe\">\n",
       "  <thead>\n",
       "    <tr style=\"text-align: right;\">\n",
       "      <th></th>\n",
       "      <th>five_star</th>\n",
       "      <th>one_star</th>\n",
       "      <th>five_to_one_ratio</th>\n",
       "    </tr>\n",
       "    <tr>\n",
       "      <th>token</th>\n",
       "      <th></th>\n",
       "      <th></th>\n",
       "      <th></th>\n",
       "    </tr>\n",
       "  </thead>\n",
       "  <tbody>\n",
       "    <tr>\n",
       "      <th>the</th>\n",
       "      <td>0.001851</td>\n",
       "      <td>0.000401</td>\n",
       "      <td>4.620000</td>\n",
       "    </tr>\n",
       "    <tr>\n",
       "      <th>and</th>\n",
       "      <td>0.001831</td>\n",
       "      <td>0.000400</td>\n",
       "      <td>4.571573</td>\n",
       "    </tr>\n",
       "    <tr>\n",
       "      <th>to</th>\n",
       "      <td>0.001808</td>\n",
       "      <td>0.000400</td>\n",
       "      <td>4.515049</td>\n",
       "    </tr>\n",
       "    <tr>\n",
       "      <th>of</th>\n",
       "      <td>0.001798</td>\n",
       "      <td>0.000400</td>\n",
       "      <td>4.491262</td>\n",
       "    </tr>\n",
       "    <tr>\n",
       "      <th>is</th>\n",
       "      <td>0.001797</td>\n",
       "      <td>0.000400</td>\n",
       "      <td>4.489326</td>\n",
       "    </tr>\n",
       "    <tr>\n",
       "      <th>it</th>\n",
       "      <td>0.001797</td>\n",
       "      <td>0.000400</td>\n",
       "      <td>4.487111</td>\n",
       "    </tr>\n",
       "    <tr>\n",
       "      <th>was</th>\n",
       "      <td>0.001793</td>\n",
       "      <td>0.000400</td>\n",
       "      <td>4.476960</td>\n",
       "    </tr>\n",
       "    <tr>\n",
       "      <th>in</th>\n",
       "      <td>0.001792</td>\n",
       "      <td>0.000400</td>\n",
       "      <td>4.476685</td>\n",
       "    </tr>\n",
       "    <tr>\n",
       "      <th>for</th>\n",
       "      <td>0.001791</td>\n",
       "      <td>0.000400</td>\n",
       "      <td>4.474296</td>\n",
       "    </tr>\n",
       "    <tr>\n",
       "      <th>you</th>\n",
       "      <td>0.001789</td>\n",
       "      <td>0.000400</td>\n",
       "      <td>4.468815</td>\n",
       "    </tr>\n",
       "    <tr>\n",
       "      <th>my</th>\n",
       "      <td>0.001788</td>\n",
       "      <td>0.000400</td>\n",
       "      <td>4.465719</td>\n",
       "    </tr>\n",
       "    <tr>\n",
       "      <th>that</th>\n",
       "      <td>0.001787</td>\n",
       "      <td>0.000400</td>\n",
       "      <td>4.464279</td>\n",
       "    </tr>\n",
       "    <tr>\n",
       "      <th>with</th>\n",
       "      <td>0.001787</td>\n",
       "      <td>0.000400</td>\n",
       "      <td>4.462981</td>\n",
       "    </tr>\n",
       "    <tr>\n",
       "      <th>this</th>\n",
       "      <td>0.001787</td>\n",
       "      <td>0.000400</td>\n",
       "      <td>4.462833</td>\n",
       "    </tr>\n",
       "    <tr>\n",
       "      <th>they</th>\n",
       "      <td>0.001785</td>\n",
       "      <td>0.000400</td>\n",
       "      <td>4.459044</td>\n",
       "    </tr>\n",
       "    <tr>\n",
       "      <th>have</th>\n",
       "      <td>0.001784</td>\n",
       "      <td>0.000400</td>\n",
       "      <td>4.456922</td>\n",
       "    </tr>\n",
       "    <tr>\n",
       "      <th>we</th>\n",
       "      <td>0.001784</td>\n",
       "      <td>0.000400</td>\n",
       "      <td>4.455643</td>\n",
       "    </tr>\n",
       "    <tr>\n",
       "      <th>on</th>\n",
       "      <td>0.001783</td>\n",
       "      <td>0.000400</td>\n",
       "      <td>4.454515</td>\n",
       "    </tr>\n",
       "    <tr>\n",
       "      <th>are</th>\n",
       "      <td>0.001783</td>\n",
       "      <td>0.000400</td>\n",
       "      <td>4.454193</td>\n",
       "    </tr>\n",
       "    <tr>\n",
       "      <th>but</th>\n",
       "      <td>0.001783</td>\n",
       "      <td>0.000400</td>\n",
       "      <td>4.454107</td>\n",
       "    </tr>\n",
       "    <tr>\n",
       "      <th>had</th>\n",
       "      <td>0.001782</td>\n",
       "      <td>0.000400</td>\n",
       "      <td>4.450213</td>\n",
       "    </tr>\n",
       "    <tr>\n",
       "      <th>great</th>\n",
       "      <td>0.001781</td>\n",
       "      <td>0.000400</td>\n",
       "      <td>4.449818</td>\n",
       "    </tr>\n",
       "    <tr>\n",
       "      <th>place</th>\n",
       "      <td>0.001781</td>\n",
       "      <td>0.000400</td>\n",
       "      <td>4.449371</td>\n",
       "    </tr>\n",
       "    <tr>\n",
       "      <th>so</th>\n",
       "      <td>0.001781</td>\n",
       "      <td>0.000400</td>\n",
       "      <td>4.448813</td>\n",
       "    </tr>\n",
       "    <tr>\n",
       "      <th>at</th>\n",
       "      <td>0.001780</td>\n",
       "      <td>0.000400</td>\n",
       "      <td>4.446812</td>\n",
       "    </tr>\n",
       "    <tr>\n",
       "      <th>as</th>\n",
       "      <td>0.001780</td>\n",
       "      <td>0.000400</td>\n",
       "      <td>4.446750</td>\n",
       "    </tr>\n",
       "    <tr>\n",
       "      <th>good</th>\n",
       "      <td>0.001780</td>\n",
       "      <td>0.000400</td>\n",
       "      <td>4.446017</td>\n",
       "    </tr>\n",
       "    <tr>\n",
       "      <th>not</th>\n",
       "      <td>0.001780</td>\n",
       "      <td>0.000400</td>\n",
       "      <td>4.446002</td>\n",
       "    </tr>\n",
       "    <tr>\n",
       "      <th>food</th>\n",
       "      <td>0.001780</td>\n",
       "      <td>0.000400</td>\n",
       "      <td>4.445967</td>\n",
       "    </tr>\n",
       "    <tr>\n",
       "      <th>there</th>\n",
       "      <td>0.001779</td>\n",
       "      <td>0.000400</td>\n",
       "      <td>4.444491</td>\n",
       "    </tr>\n",
       "    <tr>\n",
       "      <th>...</th>\n",
       "      <td>...</td>\n",
       "      <td>...</td>\n",
       "      <td>...</td>\n",
       "    </tr>\n",
       "    <tr>\n",
       "      <th>actions</th>\n",
       "      <td>0.001773</td>\n",
       "      <td>0.000400</td>\n",
       "      <td>4.429074</td>\n",
       "    </tr>\n",
       "    <tr>\n",
       "      <th>showing</th>\n",
       "      <td>0.001773</td>\n",
       "      <td>0.000400</td>\n",
       "      <td>4.429074</td>\n",
       "    </tr>\n",
       "    <tr>\n",
       "      <th>acknowledged</th>\n",
       "      <td>0.001773</td>\n",
       "      <td>0.000400</td>\n",
       "      <td>4.429074</td>\n",
       "    </tr>\n",
       "    <tr>\n",
       "      <th>quote</th>\n",
       "      <td>0.001773</td>\n",
       "      <td>0.000400</td>\n",
       "      <td>4.429074</td>\n",
       "    </tr>\n",
       "    <tr>\n",
       "      <th>busses</th>\n",
       "      <td>0.001773</td>\n",
       "      <td>0.000400</td>\n",
       "      <td>4.429074</td>\n",
       "    </tr>\n",
       "    <tr>\n",
       "      <th>outright</th>\n",
       "      <td>0.001773</td>\n",
       "      <td>0.000400</td>\n",
       "      <td>4.429074</td>\n",
       "    </tr>\n",
       "    <tr>\n",
       "      <th>blowdry</th>\n",
       "      <td>0.001773</td>\n",
       "      <td>0.000400</td>\n",
       "      <td>4.429074</td>\n",
       "    </tr>\n",
       "    <tr>\n",
       "      <th>incompetent</th>\n",
       "      <td>0.001773</td>\n",
       "      <td>0.000400</td>\n",
       "      <td>4.429074</td>\n",
       "    </tr>\n",
       "    <tr>\n",
       "      <th>bandaid</th>\n",
       "      <td>0.001773</td>\n",
       "      <td>0.000400</td>\n",
       "      <td>4.429074</td>\n",
       "    </tr>\n",
       "    <tr>\n",
       "      <th>politely</th>\n",
       "      <td>0.001773</td>\n",
       "      <td>0.000400</td>\n",
       "      <td>4.429074</td>\n",
       "    </tr>\n",
       "    <tr>\n",
       "      <th>luke</th>\n",
       "      <td>0.001773</td>\n",
       "      <td>0.000400</td>\n",
       "      <td>4.429074</td>\n",
       "    </tr>\n",
       "    <tr>\n",
       "      <th>argued</th>\n",
       "      <td>0.001773</td>\n",
       "      <td>0.000400</td>\n",
       "      <td>4.429074</td>\n",
       "    </tr>\n",
       "    <tr>\n",
       "      <th>nibbles</th>\n",
       "      <td>0.001773</td>\n",
       "      <td>0.000400</td>\n",
       "      <td>4.429074</td>\n",
       "    </tr>\n",
       "    <tr>\n",
       "      <th>rudely</th>\n",
       "      <td>0.001773</td>\n",
       "      <td>0.000400</td>\n",
       "      <td>4.429074</td>\n",
       "    </tr>\n",
       "    <tr>\n",
       "      <th>inedible</th>\n",
       "      <td>0.001773</td>\n",
       "      <td>0.000400</td>\n",
       "      <td>4.429074</td>\n",
       "    </tr>\n",
       "    <tr>\n",
       "      <th>pointing</th>\n",
       "      <td>0.001773</td>\n",
       "      <td>0.000400</td>\n",
       "      <td>4.429074</td>\n",
       "    </tr>\n",
       "    <tr>\n",
       "      <th>pischke</th>\n",
       "      <td>0.001773</td>\n",
       "      <td>0.000400</td>\n",
       "      <td>4.429074</td>\n",
       "    </tr>\n",
       "    <tr>\n",
       "      <th>innova</th>\n",
       "      <td>0.001773</td>\n",
       "      <td>0.000400</td>\n",
       "      <td>4.429074</td>\n",
       "    </tr>\n",
       "    <tr>\n",
       "      <th>flag</th>\n",
       "      <td>0.001773</td>\n",
       "      <td>0.000400</td>\n",
       "      <td>4.429074</td>\n",
       "    </tr>\n",
       "    <tr>\n",
       "      <th>hire</th>\n",
       "      <td>0.001773</td>\n",
       "      <td>0.000400</td>\n",
       "      <td>4.429073</td>\n",
       "    </tr>\n",
       "    <tr>\n",
       "      <th>boca</th>\n",
       "      <td>0.001773</td>\n",
       "      <td>0.000400</td>\n",
       "      <td>4.429073</td>\n",
       "    </tr>\n",
       "    <tr>\n",
       "      <th>fuse</th>\n",
       "      <td>0.001773</td>\n",
       "      <td>0.000400</td>\n",
       "      <td>4.429073</td>\n",
       "    </tr>\n",
       "    <tr>\n",
       "      <th>disaster</th>\n",
       "      <td>0.001773</td>\n",
       "      <td>0.000400</td>\n",
       "      <td>4.429073</td>\n",
       "    </tr>\n",
       "    <tr>\n",
       "      <th>voucher</th>\n",
       "      <td>0.001773</td>\n",
       "      <td>0.000400</td>\n",
       "      <td>4.429073</td>\n",
       "    </tr>\n",
       "    <tr>\n",
       "      <th>acknowledge</th>\n",
       "      <td>0.001773</td>\n",
       "      <td>0.000400</td>\n",
       "      <td>4.429072</td>\n",
       "    </tr>\n",
       "    <tr>\n",
       "      <th>unacceptable</th>\n",
       "      <td>0.001773</td>\n",
       "      <td>0.000400</td>\n",
       "      <td>4.429072</td>\n",
       "    </tr>\n",
       "    <tr>\n",
       "      <th>unprofessional</th>\n",
       "      <td>0.001773</td>\n",
       "      <td>0.000400</td>\n",
       "      <td>4.429072</td>\n",
       "    </tr>\n",
       "    <tr>\n",
       "      <th>filthy</th>\n",
       "      <td>0.001773</td>\n",
       "      <td>0.000400</td>\n",
       "      <td>4.429071</td>\n",
       "    </tr>\n",
       "    <tr>\n",
       "      <th>refused</th>\n",
       "      <td>0.001773</td>\n",
       "      <td>0.000400</td>\n",
       "      <td>4.429069</td>\n",
       "    </tr>\n",
       "    <tr>\n",
       "      <th>staffperson</th>\n",
       "      <td>0.001773</td>\n",
       "      <td>0.000400</td>\n",
       "      <td>4.429067</td>\n",
       "    </tr>\n",
       "  </tbody>\n",
       "</table>\n",
       "<p>16825 rows × 3 columns</p>\n",
       "</div>"
      ],
      "text/plain": [
       "                five_star  one_star  five_to_one_ratio\n",
       "token                                                 \n",
       "the              0.001851  0.000401           4.620000\n",
       "and              0.001831  0.000400           4.571573\n",
       "to               0.001808  0.000400           4.515049\n",
       "of               0.001798  0.000400           4.491262\n",
       "is               0.001797  0.000400           4.489326\n",
       "it               0.001797  0.000400           4.487111\n",
       "was              0.001793  0.000400           4.476960\n",
       "in               0.001792  0.000400           4.476685\n",
       "for              0.001791  0.000400           4.474296\n",
       "you              0.001789  0.000400           4.468815\n",
       "my               0.001788  0.000400           4.465719\n",
       "that             0.001787  0.000400           4.464279\n",
       "with             0.001787  0.000400           4.462981\n",
       "this             0.001787  0.000400           4.462833\n",
       "they             0.001785  0.000400           4.459044\n",
       "have             0.001784  0.000400           4.456922\n",
       "we               0.001784  0.000400           4.455643\n",
       "on               0.001783  0.000400           4.454515\n",
       "are              0.001783  0.000400           4.454193\n",
       "but              0.001783  0.000400           4.454107\n",
       "had              0.001782  0.000400           4.450213\n",
       "great            0.001781  0.000400           4.449818\n",
       "place            0.001781  0.000400           4.449371\n",
       "so               0.001781  0.000400           4.448813\n",
       "at               0.001780  0.000400           4.446812\n",
       "as               0.001780  0.000400           4.446750\n",
       "good             0.001780  0.000400           4.446017\n",
       "not              0.001780  0.000400           4.446002\n",
       "food             0.001780  0.000400           4.445967\n",
       "there            0.001779  0.000400           4.444491\n",
       "...                   ...       ...                ...\n",
       "actions          0.001773  0.000400           4.429074\n",
       "showing          0.001773  0.000400           4.429074\n",
       "acknowledged     0.001773  0.000400           4.429074\n",
       "quote            0.001773  0.000400           4.429074\n",
       "busses           0.001773  0.000400           4.429074\n",
       "outright         0.001773  0.000400           4.429074\n",
       "blowdry          0.001773  0.000400           4.429074\n",
       "incompetent      0.001773  0.000400           4.429074\n",
       "bandaid          0.001773  0.000400           4.429074\n",
       "politely         0.001773  0.000400           4.429074\n",
       "luke             0.001773  0.000400           4.429074\n",
       "argued           0.001773  0.000400           4.429074\n",
       "nibbles          0.001773  0.000400           4.429074\n",
       "rudely           0.001773  0.000400           4.429074\n",
       "inedible         0.001773  0.000400           4.429074\n",
       "pointing         0.001773  0.000400           4.429074\n",
       "pischke          0.001773  0.000400           4.429074\n",
       "innova           0.001773  0.000400           4.429074\n",
       "flag             0.001773  0.000400           4.429074\n",
       "hire             0.001773  0.000400           4.429073\n",
       "boca             0.001773  0.000400           4.429073\n",
       "fuse             0.001773  0.000400           4.429073\n",
       "disaster         0.001773  0.000400           4.429073\n",
       "voucher          0.001773  0.000400           4.429073\n",
       "acknowledge      0.001773  0.000400           4.429072\n",
       "unacceptable     0.001773  0.000400           4.429072\n",
       "unprofessional   0.001773  0.000400           4.429072\n",
       "filthy           0.001773  0.000400           4.429071\n",
       "refused          0.001773  0.000400           4.429069\n",
       "staffperson      0.001773  0.000400           4.429067\n",
       "\n",
       "[16825 rows x 3 columns]"
      ]
     },
     "execution_count": 104,
     "metadata": {},
     "output_type": "execute_result"
    }
   ],
   "source": [
    "tokens.sort_values('five_to_one_ratio', ascending=False)"
   ]
  },
  {
   "cell_type": "code",
   "execution_count": 107,
   "metadata": {},
   "outputs": [
    {
     "data": {
      "text/html": [
       "<div>\n",
       "<style scoped>\n",
       "    .dataframe tbody tr th:only-of-type {\n",
       "        vertical-align: middle;\n",
       "    }\n",
       "\n",
       "    .dataframe tbody tr th {\n",
       "        vertical-align: top;\n",
       "    }\n",
       "\n",
       "    .dataframe thead th {\n",
       "        text-align: right;\n",
       "    }\n",
       "</style>\n",
       "<table border=\"1\" class=\"dataframe\">\n",
       "  <thead>\n",
       "    <tr style=\"text-align: right;\">\n",
       "      <th></th>\n",
       "      <th>five_star</th>\n",
       "      <th>one_star</th>\n",
       "      <th>five_to_one_ratio</th>\n",
       "    </tr>\n",
       "    <tr>\n",
       "      <th>token</th>\n",
       "      <th></th>\n",
       "      <th></th>\n",
       "      <th></th>\n",
       "    </tr>\n",
       "  </thead>\n",
       "  <tbody>\n",
       "    <tr>\n",
       "      <th>00</th>\n",
       "      <td>0.001773</td>\n",
       "      <td>0.0004</td>\n",
       "      <td>4.429600</td>\n",
       "    </tr>\n",
       "    <tr>\n",
       "      <th>000</th>\n",
       "      <td>0.001773</td>\n",
       "      <td>0.0004</td>\n",
       "      <td>4.429144</td>\n",
       "    </tr>\n",
       "    <tr>\n",
       "      <th>00a</th>\n",
       "      <td>0.001773</td>\n",
       "      <td>0.0004</td>\n",
       "      <td>4.429077</td>\n",
       "    </tr>\n",
       "    <tr>\n",
       "      <th>00am</th>\n",
       "      <td>0.001773</td>\n",
       "      <td>0.0004</td>\n",
       "      <td>4.429104</td>\n",
       "    </tr>\n",
       "    <tr>\n",
       "      <th>00pm</th>\n",
       "      <td>0.001773</td>\n",
       "      <td>0.0004</td>\n",
       "      <td>4.429133</td>\n",
       "    </tr>\n",
       "    <tr>\n",
       "      <th>01</th>\n",
       "      <td>0.001773</td>\n",
       "      <td>0.0004</td>\n",
       "      <td>4.429105</td>\n",
       "    </tr>\n",
       "    <tr>\n",
       "      <th>02</th>\n",
       "      <td>0.001773</td>\n",
       "      <td>0.0004</td>\n",
       "      <td>4.429077</td>\n",
       "    </tr>\n",
       "    <tr>\n",
       "      <th>03</th>\n",
       "      <td>0.001773</td>\n",
       "      <td>0.0004</td>\n",
       "      <td>4.429077</td>\n",
       "    </tr>\n",
       "    <tr>\n",
       "      <th>03342</th>\n",
       "      <td>0.001773</td>\n",
       "      <td>0.0004</td>\n",
       "      <td>4.429077</td>\n",
       "    </tr>\n",
       "    <tr>\n",
       "      <th>04</th>\n",
       "      <td>0.001773</td>\n",
       "      <td>0.0004</td>\n",
       "      <td>4.429092</td>\n",
       "    </tr>\n",
       "  </tbody>\n",
       "</table>\n",
       "</div>"
      ],
      "text/plain": [
       "       five_star  one_star  five_to_one_ratio\n",
       "token                                        \n",
       "00      0.001773    0.0004           4.429600\n",
       "000     0.001773    0.0004           4.429144\n",
       "00a     0.001773    0.0004           4.429077\n",
       "00am    0.001773    0.0004           4.429104\n",
       "00pm    0.001773    0.0004           4.429133\n",
       "01      0.001773    0.0004           4.429105\n",
       "02      0.001773    0.0004           4.429077\n",
       "03      0.001773    0.0004           4.429077\n",
       "03342   0.001773    0.0004           4.429077\n",
       "04      0.001773    0.0004           4.429092"
      ]
     },
     "execution_count": 107,
     "metadata": {},
     "output_type": "execute_result"
    }
   ],
   "source": [
    "# 10 tokens more often present in 5 stars\n",
    "tokens.head(10)"
   ]
  },
  {
   "cell_type": "code",
   "execution_count": 108,
   "metadata": {},
   "outputs": [
    {
     "data": {
      "text/html": [
       "<div>\n",
       "<style scoped>\n",
       "    .dataframe tbody tr th:only-of-type {\n",
       "        vertical-align: middle;\n",
       "    }\n",
       "\n",
       "    .dataframe tbody tr th {\n",
       "        vertical-align: top;\n",
       "    }\n",
       "\n",
       "    .dataframe thead th {\n",
       "        text-align: right;\n",
       "    }\n",
       "</style>\n",
       "<table border=\"1\" class=\"dataframe\">\n",
       "  <thead>\n",
       "    <tr style=\"text-align: right;\">\n",
       "      <th></th>\n",
       "      <th>five_star</th>\n",
       "      <th>one_star</th>\n",
       "      <th>five_to_one_ratio</th>\n",
       "    </tr>\n",
       "    <tr>\n",
       "      <th>token</th>\n",
       "      <th></th>\n",
       "      <th></th>\n",
       "      <th></th>\n",
       "    </tr>\n",
       "  </thead>\n",
       "  <tbody>\n",
       "    <tr>\n",
       "      <th>zucchini</th>\n",
       "      <td>0.001773</td>\n",
       "      <td>0.0004</td>\n",
       "      <td>4.429216</td>\n",
       "    </tr>\n",
       "    <tr>\n",
       "      <th>zuchinni</th>\n",
       "      <td>0.001773</td>\n",
       "      <td>0.0004</td>\n",
       "      <td>4.429091</td>\n",
       "    </tr>\n",
       "    <tr>\n",
       "      <th>zumba</th>\n",
       "      <td>0.001773</td>\n",
       "      <td>0.0004</td>\n",
       "      <td>4.429120</td>\n",
       "    </tr>\n",
       "    <tr>\n",
       "      <th>zupa</th>\n",
       "      <td>0.001773</td>\n",
       "      <td>0.0004</td>\n",
       "      <td>4.429092</td>\n",
       "    </tr>\n",
       "    <tr>\n",
       "      <th>zuzu</th>\n",
       "      <td>0.001773</td>\n",
       "      <td>0.0004</td>\n",
       "      <td>4.429120</td>\n",
       "    </tr>\n",
       "    <tr>\n",
       "      <th>zwiebel</th>\n",
       "      <td>0.001773</td>\n",
       "      <td>0.0004</td>\n",
       "      <td>4.429092</td>\n",
       "    </tr>\n",
       "    <tr>\n",
       "      <th>zzed</th>\n",
       "      <td>0.001773</td>\n",
       "      <td>0.0004</td>\n",
       "      <td>4.429092</td>\n",
       "    </tr>\n",
       "    <tr>\n",
       "      <th>éclairs</th>\n",
       "      <td>0.001773</td>\n",
       "      <td>0.0004</td>\n",
       "      <td>4.429092</td>\n",
       "    </tr>\n",
       "    <tr>\n",
       "      <th>école</th>\n",
       "      <td>0.001773</td>\n",
       "      <td>0.0004</td>\n",
       "      <td>4.429092</td>\n",
       "    </tr>\n",
       "    <tr>\n",
       "      <th>ém</th>\n",
       "      <td>0.001773</td>\n",
       "      <td>0.0004</td>\n",
       "      <td>4.429092</td>\n",
       "    </tr>\n",
       "  </tbody>\n",
       "</table>\n",
       "</div>"
      ],
      "text/plain": [
       "          five_star  one_star  five_to_one_ratio\n",
       "token                                           \n",
       "zucchini   0.001773    0.0004           4.429216\n",
       "zuchinni   0.001773    0.0004           4.429091\n",
       "zumba      0.001773    0.0004           4.429120\n",
       "zupa       0.001773    0.0004           4.429092\n",
       "zuzu       0.001773    0.0004           4.429120\n",
       "zwiebel    0.001773    0.0004           4.429092\n",
       "zzed       0.001773    0.0004           4.429092\n",
       "éclairs    0.001773    0.0004           4.429092\n",
       "école      0.001773    0.0004           4.429092\n",
       "ém         0.001773    0.0004           4.429092"
      ]
     },
     "execution_count": 108,
     "metadata": {},
     "output_type": "execute_result"
    }
   ],
   "source": [
    "# 10 tokens more often present in single rating \n",
    "tokens.tail(10)"
   ]
  },
  {
   "cell_type": "code",
   "execution_count": null,
   "metadata": {},
   "outputs": [],
   "source": []
  }
 ],
 "metadata": {
  "kernelspec": {
   "display_name": "Python 3",
   "language": "python",
   "name": "python3"
  },
  "language_info": {
   "codemirror_mode": {
    "name": "ipython",
    "version": 3
   },
   "file_extension": ".py",
   "mimetype": "text/x-python",
   "name": "python",
   "nbconvert_exporter": "python",
   "pygments_lexer": "ipython3",
   "version": "3.5.2"
  }
 },
 "nbformat": 4,
 "nbformat_minor": 2
}
